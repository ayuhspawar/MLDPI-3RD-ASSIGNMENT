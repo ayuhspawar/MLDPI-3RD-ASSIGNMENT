{
 "cells": [
  {
   "cell_type": "markdown",
   "metadata": {},
   "source": [
    "## 1.1 Write a Python Program to implement your own myreduce() function which works exactly like Python's built-in function reduce()"
   ]
  },
  {
   "cell_type": "code",
   "execution_count": 97,
   "metadata": {},
   "outputs": [],
   "source": [
    "def myreduce(function,sequence):\n",
    "    res = sequence[0]\n",
    "    for i in sequence[1:]:\n",
    "        res = function(res,i)\n",
    "    return res\n",
    "        \n",
    "def sum1(x,y):\n",
    "    return x + y"
   ]
  },
  {
   "cell_type": "code",
   "execution_count": 103,
   "metadata": {},
   "outputs": [
    {
     "data": {
      "text/plain": [
       "21"
      ]
     },
     "execution_count": 103,
     "metadata": {},
     "output_type": "execute_result"
    }
   ],
   "source": [
    "myreduce(sum1,[1,2,3,4,5,6])"
   ]
  },
  {
   "cell_type": "markdown",
   "metadata": {},
   "source": [
    "## 1.2 Write a Python program to implement your own myfilter() function which works exactly like Python's built-in function filter()"
   ]
  },
  {
   "cell_type": "code",
   "execution_count": 99,
   "metadata": {},
   "outputs": [],
   "source": [
    "def myfilter(function,iterable):\n",
    "    res = list()\n",
    "    for i in iterable[:]:\n",
    "        if function(i):\n",
    "            res.append(i)\n",
    "    return res\n",
    "        \n",
    "def even_check(item):\n",
    "     if item%2==0:\n",
    "        return True\n",
    "     else :\n",
    "        return False"
   ]
  },
  {
   "cell_type": "code",
   "execution_count": 104,
   "metadata": {},
   "outputs": [
    {
     "data": {
      "text/plain": [
       "[2, 4, 6, 8, 10, 12]"
      ]
     },
     "execution_count": 104,
     "metadata": {},
     "output_type": "execute_result"
    }
   ],
   "source": [
    "myfilter(even_check,[1,2,3,4,5,6,7,8,9,10,11,12])"
   ]
  },
  {
   "cell_type": "markdown",
   "metadata": {},
   "source": [
    "## 2. Implement List comprehensions to produce the following lists.\n",
    "##    Write List comprehensions to produce the following Lists\n",
    "\n",
    "\n",
    "#     ['A', 'C', 'A', 'D', 'G', 'I', ’L’, ‘ D’]\n",
    "\n",
    "\n",
    "#     ['x', 'xx', 'xxx', 'xxxx', 'y', 'yy', 'yyy', 'yyyy', 'z', 'zz', 'zzz', 'zzzz']\n",
    "\n",
    "\n",
    "#     ['x', 'y', 'z', 'xx', 'yy', 'zz', 'xxx', 'yyy', 'zzz', 'xxxx', 'yyyy', 'zzzz']\n",
    "\n",
    "\n",
    "#     [[2], [3], [4], [3], [4], [5], [4], [5], [6]]\n",
    "\n",
    "\n",
    "#     [[2, 3, 4, 5],[3, 4, 5, 6],[4, 5, 6, 7],[5,6,7,8]]\n",
    "\n",
    "\n",
    "#     [(1, 1), (2, 1), (3, 1), (1, 2), (2, 2), (3, 2), (1, 3), (2, 3), (3, 3)]\n",
    "\n",
    "\n"
   ]
  },
  {
   "cell_type": "code",
   "execution_count": 102,
   "metadata": {},
   "outputs": [
    {
     "name": "stdout",
     "output_type": "stream",
     "text": [
      "['A', 'C', 'A', 'D', 'G', 'I', 'L', 'D']\n",
      "\n",
      "\n",
      "['x', 'xx', 'xxx', 'xxxx', 'y', 'yy', 'yyy', 'yyyy', 'z', 'zz', 'zzz', 'zzzz']\n",
      "\n",
      "\n",
      "['x', 'y', 'z', 'xx', 'yy', 'zz', 'xxx', 'yyy', 'zzz', 'xxxx', 'yyyy', 'zzzz']\n",
      "\n",
      "\n",
      "[[2], [3], [4], [3], [4], [5], [4], [5], [6]]\n",
      "\n",
      "\n",
      "[[2, 3, 4, 5], [3, 4, 5, 6], [4, 5, 6, 7], [5, 6, 7, 8]]\n",
      "\n",
      "\n",
      "[(1, 1), (2, 1), (3, 1), (1, 2), (2, 2), (3, 2), (1, 3), (2, 3), (3, 3)]\n"
     ]
    }
   ],
   "source": [
    "str1 = \"ACADGILD\"\n",
    "lst1 = [i for i in str1 ]\n",
    "print(lst1)\n",
    "print('\\n')\n",
    "\n",
    "\n",
    "###########\n",
    "items = ['x','y','z']\n",
    "lst2 = [i*j for i in items for j in range(1,5)]\n",
    "print(lst2)\n",
    "print('\\n')\n",
    "\n",
    "\n",
    "###########\n",
    "alphabet = ['x','y','z']\n",
    "lst3 = [i *j for i in range(1,5) for j in alphabet ]\n",
    "print(lst3)\n",
    "print('\\n')\n",
    "\n",
    "\n",
    "##########\n",
    "num1 = [2,3,4]\n",
    "lst4 = [[i+j] for i in num1 for j in range(0,3)]\n",
    "print(lst4)\n",
    "print('\\n')\n",
    "\n",
    "\n",
    "##########\n",
    "num2 = [2,3,4,5]\n",
    "lst5 = [[i+j for i in range(0,4)] for j in num2 ]\n",
    "print(lst5)\n",
    "print('\\n')\n",
    "\n",
    "\n",
    "###########\n",
    "num3 = (1,2,3)\n",
    "lst6 = [(j,i) for i in range(1,4) for j in range(1,4)]\n",
    "print(lst6)\n",
    "\n"
   ]
  },
  {
   "cell_type": "code",
   "execution_count": null,
   "metadata": {},
   "outputs": [],
   "source": []
  }
 ],
 "metadata": {
  "kernelspec": {
   "display_name": "Python 3",
   "language": "python",
   "name": "python3"
  },
  "language_info": {
   "codemirror_mode": {
    "name": "ipython",
    "version": 3
   },
   "file_extension": ".py",
   "mimetype": "text/x-python",
   "name": "python",
   "nbconvert_exporter": "python",
   "pygments_lexer": "ipython3",
   "version": "3.7.1"
  }
 },
 "nbformat": 4,
 "nbformat_minor": 2
}
